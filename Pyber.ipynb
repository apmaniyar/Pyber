{
 "cells": [
  {
   "cell_type": "code",
   "execution_count": 2,
   "metadata": {},
   "outputs": [],
   "source": [
    "# %matplotlib notebook\n",
    "# Import Dependencies\n",
    "import matplotlib.pyplot as plt\n",
    "import pandas as pd\n",
    "import numpy as np\n",
    "import seaborn as sns"
   ]
  },
  {
   "cell_type": "code",
   "execution_count": 3,
   "metadata": {},
   "outputs": [
    {
     "data": {
      "text/html": [
       "<div>\n",
       "<style scoped>\n",
       "    .dataframe tbody tr th:only-of-type {\n",
       "        vertical-align: middle;\n",
       "    }\n",
       "\n",
       "    .dataframe tbody tr th {\n",
       "        vertical-align: top;\n",
       "    }\n",
       "\n",
       "    .dataframe thead th {\n",
       "        text-align: right;\n",
       "    }\n",
       "</style>\n",
       "<table border=\"1\" class=\"dataframe\">\n",
       "  <thead>\n",
       "    <tr style=\"text-align: right;\">\n",
       "      <th></th>\n",
       "      <th>city</th>\n",
       "      <th>date</th>\n",
       "      <th>fare</th>\n",
       "      <th>ride_id</th>\n",
       "    </tr>\n",
       "  </thead>\n",
       "  <tbody>\n",
       "    <tr>\n",
       "      <th>0</th>\n",
       "      <td>Sarabury</td>\n",
       "      <td>2016-01-16 13:49:27</td>\n",
       "      <td>38.35</td>\n",
       "      <td>5403689035038</td>\n",
       "    </tr>\n",
       "    <tr>\n",
       "      <th>1</th>\n",
       "      <td>South Roy</td>\n",
       "      <td>2016-01-02 18:42:34</td>\n",
       "      <td>17.49</td>\n",
       "      <td>4036272335942</td>\n",
       "    </tr>\n",
       "    <tr>\n",
       "      <th>2</th>\n",
       "      <td>Wiseborough</td>\n",
       "      <td>2016-01-21 17:35:29</td>\n",
       "      <td>44.18</td>\n",
       "      <td>3645042422587</td>\n",
       "    </tr>\n",
       "    <tr>\n",
       "      <th>3</th>\n",
       "      <td>Spencertown</td>\n",
       "      <td>2016-07-31 14:53:22</td>\n",
       "      <td>6.87</td>\n",
       "      <td>2242596575892</td>\n",
       "    </tr>\n",
       "    <tr>\n",
       "      <th>4</th>\n",
       "      <td>Nguyenbury</td>\n",
       "      <td>2016-07-09 04:42:44</td>\n",
       "      <td>6.28</td>\n",
       "      <td>1543057793673</td>\n",
       "    </tr>\n",
       "  </tbody>\n",
       "</table>\n",
       "</div>"
      ],
      "text/plain": [
       "          city                 date   fare        ride_id\n",
       "0     Sarabury  2016-01-16 13:49:27  38.35  5403689035038\n",
       "1    South Roy  2016-01-02 18:42:34  17.49  4036272335942\n",
       "2  Wiseborough  2016-01-21 17:35:29  44.18  3645042422587\n",
       "3  Spencertown  2016-07-31 14:53:22   6.87  2242596575892\n",
       "4   Nguyenbury  2016-07-09 04:42:44   6.28  1543057793673"
      ]
     },
     "execution_count": 3,
     "metadata": {},
     "output_type": "execute_result"
    }
   ],
   "source": [
    "# Import ride data into pandas from CSV\n",
    "\n",
    "ride_df = pd.read_csv(\"/Users/arjun.maniyar/Desktop/Git_MoveTo/02-Homework/05-Matplotlib/Instructions/Pyber/raw_data/ride_data.csv\")\n",
    "ride_df.head()"
   ]
  },
  {
   "cell_type": "code",
   "execution_count": 4,
   "metadata": {},
   "outputs": [
    {
     "data": {
      "text/html": [
       "<div>\n",
       "<style scoped>\n",
       "    .dataframe tbody tr th:only-of-type {\n",
       "        vertical-align: middle;\n",
       "    }\n",
       "\n",
       "    .dataframe tbody tr th {\n",
       "        vertical-align: top;\n",
       "    }\n",
       "\n",
       "    .dataframe thead th {\n",
       "        text-align: right;\n",
       "    }\n",
       "</style>\n",
       "<table border=\"1\" class=\"dataframe\">\n",
       "  <thead>\n",
       "    <tr style=\"text-align: right;\">\n",
       "      <th></th>\n",
       "      <th>city</th>\n",
       "      <th>driver_count</th>\n",
       "      <th>type</th>\n",
       "    </tr>\n",
       "  </thead>\n",
       "  <tbody>\n",
       "    <tr>\n",
       "      <th>0</th>\n",
       "      <td>Kelseyland</td>\n",
       "      <td>63</td>\n",
       "      <td>Urban</td>\n",
       "    </tr>\n",
       "    <tr>\n",
       "      <th>1</th>\n",
       "      <td>Nguyenbury</td>\n",
       "      <td>8</td>\n",
       "      <td>Urban</td>\n",
       "    </tr>\n",
       "    <tr>\n",
       "      <th>2</th>\n",
       "      <td>East Douglas</td>\n",
       "      <td>12</td>\n",
       "      <td>Urban</td>\n",
       "    </tr>\n",
       "    <tr>\n",
       "      <th>3</th>\n",
       "      <td>West Dawnfurt</td>\n",
       "      <td>34</td>\n",
       "      <td>Urban</td>\n",
       "    </tr>\n",
       "    <tr>\n",
       "      <th>4</th>\n",
       "      <td>Rodriguezburgh</td>\n",
       "      <td>52</td>\n",
       "      <td>Urban</td>\n",
       "    </tr>\n",
       "  </tbody>\n",
       "</table>\n",
       "</div>"
      ],
      "text/plain": [
       "             city  driver_count   type\n",
       "0      Kelseyland            63  Urban\n",
       "1      Nguyenbury             8  Urban\n",
       "2    East Douglas            12  Urban\n",
       "3   West Dawnfurt            34  Urban\n",
       "4  Rodriguezburgh            52  Urban"
      ]
     },
     "execution_count": 4,
     "metadata": {},
     "output_type": "execute_result"
    }
   ],
   "source": [
    "# Import city data into pandas from CSV\n",
    "\n",
    "city_df = pd.read_csv(\"/Users/arjun.maniyar/Desktop/Git_MoveTo/02-Homework/05-Matplotlib/Instructions/Pyber/raw_data/city_data.csv\")\n",
    "city_df.head()"
   ]
  },
  {
   "cell_type": "code",
   "execution_count": 5,
   "metadata": {},
   "outputs": [
    {
     "data": {
      "text/plain": [
       "0    63\n",
       "1     8\n",
       "2    12\n",
       "3    34\n",
       "4    52\n",
       "Name: driver_count, dtype: int64"
      ]
     },
     "execution_count": 5,
     "metadata": {},
     "output_type": "execute_result"
    }
   ],
   "source": [
    "tot_drivers_city = city_df[\"driver_count\"]\n",
    "tot_drivers_city.head()"
   ]
  },
  {
   "cell_type": "code",
   "execution_count": 6,
   "metadata": {},
   "outputs": [
    {
     "data": {
      "text/html": [
       "<div>\n",
       "<style scoped>\n",
       "    .dataframe tbody tr th:only-of-type {\n",
       "        vertical-align: middle;\n",
       "    }\n",
       "\n",
       "    .dataframe tbody tr th {\n",
       "        vertical-align: top;\n",
       "    }\n",
       "\n",
       "    .dataframe thead th {\n",
       "        text-align: right;\n",
       "    }\n",
       "</style>\n",
       "<table border=\"1\" class=\"dataframe\">\n",
       "  <thead>\n",
       "    <tr style=\"text-align: right;\">\n",
       "      <th></th>\n",
       "      <th>city</th>\n",
       "      <th>date</th>\n",
       "      <th>fare</th>\n",
       "      <th>ride_id</th>\n",
       "      <th>driver_count</th>\n",
       "      <th>type</th>\n",
       "    </tr>\n",
       "  </thead>\n",
       "  <tbody>\n",
       "    <tr>\n",
       "      <th>0</th>\n",
       "      <td>Sarabury</td>\n",
       "      <td>2016-01-16 13:49:27</td>\n",
       "      <td>38.35</td>\n",
       "      <td>5403689035038</td>\n",
       "      <td>46</td>\n",
       "      <td>Urban</td>\n",
       "    </tr>\n",
       "    <tr>\n",
       "      <th>1</th>\n",
       "      <td>Sarabury</td>\n",
       "      <td>2016-07-23 07:42:44</td>\n",
       "      <td>21.76</td>\n",
       "      <td>7546681945283</td>\n",
       "      <td>46</td>\n",
       "      <td>Urban</td>\n",
       "    </tr>\n",
       "    <tr>\n",
       "      <th>2</th>\n",
       "      <td>Sarabury</td>\n",
       "      <td>2016-04-02 04:32:25</td>\n",
       "      <td>38.03</td>\n",
       "      <td>4932495851866</td>\n",
       "      <td>46</td>\n",
       "      <td>Urban</td>\n",
       "    </tr>\n",
       "    <tr>\n",
       "      <th>3</th>\n",
       "      <td>Sarabury</td>\n",
       "      <td>2016-06-23 05:03:41</td>\n",
       "      <td>26.82</td>\n",
       "      <td>6711035373406</td>\n",
       "      <td>46</td>\n",
       "      <td>Urban</td>\n",
       "    </tr>\n",
       "    <tr>\n",
       "      <th>4</th>\n",
       "      <td>Sarabury</td>\n",
       "      <td>2016-09-30 12:48:34</td>\n",
       "      <td>30.30</td>\n",
       "      <td>6388737278232</td>\n",
       "      <td>46</td>\n",
       "      <td>Urban</td>\n",
       "    </tr>\n",
       "  </tbody>\n",
       "</table>\n",
       "</div>"
      ],
      "text/plain": [
       "       city                 date   fare        ride_id  driver_count   type\n",
       "0  Sarabury  2016-01-16 13:49:27  38.35  5403689035038            46  Urban\n",
       "1  Sarabury  2016-07-23 07:42:44  21.76  7546681945283            46  Urban\n",
       "2  Sarabury  2016-04-02 04:32:25  38.03  4932495851866            46  Urban\n",
       "3  Sarabury  2016-06-23 05:03:41  26.82  6711035373406            46  Urban\n",
       "4  Sarabury  2016-09-30 12:48:34  30.30  6388737278232            46  Urban"
      ]
     },
     "execution_count": 6,
     "metadata": {},
     "output_type": "execute_result"
    }
   ],
   "source": [
    "# City = ride_df[\"city\"]\n",
    "# Date = ride_df[\"date\"]\n",
    "# Fare = ride_df[\"fare\"]\n",
    "# Ride_ID = ride_df[\"ride_id\"]\n",
    "# driver_count = city\n",
    "merged_df = pd.merge(ride_df, city_df, on=\"city\")\n",
    "merged_df.head()"
   ]
  },
  {
   "cell_type": "code",
   "execution_count": 7,
   "metadata": {},
   "outputs": [
    {
     "data": {
      "text/plain": [
       "city\n",
       "Anitamouth       9\n",
       "Campbellport    15\n",
       "Carrollbury     10\n",
       "Clarkstad       12\n",
       "Conwaymouth     11\n",
       "Name: ride_id, dtype: int64"
      ]
     },
     "execution_count": 7,
     "metadata": {},
     "output_type": "execute_result"
    }
   ],
   "source": [
    "# city_group = ride_df.groupby('city')\n",
    "\n",
    "# avg_fares = city_group['fare'].mean()\n",
    "\n",
    "# avg_fares.head()\n",
    "#Total Rides by City Type\n",
    "city_group = merged_df.groupby(['type','city'])\n",
    "tot_rides_city = city_group['ride_id'].count()\n",
    "\n",
    "#urban\n",
    "urban_id_count = \"Urban\"\n",
    "just_urban_count  = tot_rides_city.loc[urban_id_count]\n",
    "\n",
    "#rural\n",
    "rural_id_count = \"Rural\"\n",
    "just_rural_count  = tot_rides_city.loc[rural_id_count]\n",
    "\n",
    "#Suburban\n",
    "sub_id_count = \"Suburban\"\n",
    "just_sub_count  = tot_rides_city.loc[sub_id_count]\n",
    "just_sub_count.head()\n"
   ]
  },
  {
   "cell_type": "code",
   "execution_count": 8,
   "metadata": {
    "scrolled": true
   },
   "outputs": [],
   "source": [
    "# city_group = merged_df.groupby(['type','city'])\n",
    "# tot_city_rides = city_group['ride_id'].count()"
   ]
  },
  {
   "cell_type": "code",
   "execution_count": 9,
   "metadata": {},
   "outputs": [
    {
     "data": {
      "text/plain": [
       "city\n",
       "Anitamouth       9\n",
       "Campbellport    15\n",
       "Carrollbury     10\n",
       "Clarkstad       12\n",
       "Conwaymouth     11\n",
       "Name: ride_id, dtype: int64"
      ]
     },
     "execution_count": 9,
     "metadata": {},
     "output_type": "execute_result"
    }
   ],
   "source": [
    "\n",
    "#urban\n",
    "urban_id_count = \"Urban\"\n",
    "just_urban_count  = tot_rides_city.loc[urban_id_count]\n",
    "\n",
    "#rural\n",
    "rural_id_count = \"Rural\"\n",
    "just_rural_count  = tot_rides_city.loc[rural_id_count]\n",
    "\n",
    "#Suburban\n",
    "sub_id_count = \"Suburban\"\n",
    "just_sub_count  = tot_rides_city.loc[sub_id_count]\n",
    "just_sub_count.head()"
   ]
  },
  {
   "cell_type": "code",
   "execution_count": 10,
   "metadata": {},
   "outputs": [
    {
     "data": {
      "text/plain": [
       "city\n",
       "Anitamouth      37.315556\n",
       "Campbellport    33.711333\n",
       "Carrollbury     36.606000\n",
       "Clarkstad       31.051667\n",
       "Conwaymouth     34.591818\n",
       "Name: fare, dtype: float64"
      ]
     },
     "execution_count": 10,
     "metadata": {},
     "output_type": "execute_result"
    }
   ],
   "source": [
    "#Average Fare ($) Per City\n",
    "urban_data = merged_df.groupby(['type','city'])\n",
    "avg_fare = urban_data['fare'].mean()\n",
    "\n",
    "#urban\n",
    "urban_id_avg = \"Urban\"\n",
    "just_urban_avg = avg_fare.loc[urban_id_avg]\n",
    "\n",
    "#rural\n",
    "rural_id_avg = \"Rural\"\n",
    "just_rural_avg = avg_fare.loc[rural_id_avg]\n",
    "just_rural_avg.head()\n",
    "\n",
    "#rural\n",
    "sub_id_avg = \"Suburban\"\n",
    "just_sub_avg = avg_fare.loc[sub_id_avg]\n",
    "just_sub_avg.head()"
   ]
  },
  {
   "cell_type": "code",
   "execution_count": 12,
   "metadata": {},
   "outputs": [
    {
     "data": {
      "text/plain": [
       "<matplotlib.legend.Legend at 0x1a16a95e80>"
      ]
     },
     "execution_count": 12,
     "metadata": {},
     "output_type": "execute_result"
    },
    {
     "data": {
      "image/png": "[encoded data removed]",
      "text/plain": [
       "<matplotlib.figure.Figure at 0x1a169d8438>"
      ]
     },
     "metadata": {},
     "output_type": "display_data"
    }
   ],
   "source": [
    "# type_merged = merged_df.groupby('type')\n",
    "\n",
    "# plt.legend(loc=\"best\")\n",
    "# plt.scatter(tot_rides_city, avg_fares,  s=tot_drivers_city)\n",
    "# sns.set()\n",
    "# plt.show()\n",
    "\n",
    "# type_urban = merged_df.loc[(merged_df[\"type\"] = ]\n",
    "plt.title(\"Pyber RideSharing Data (2016)\")\n",
    "plt.xlabel(\"Total Number of Rides (per City)\")\n",
    "plt.ylabel(\"Average Fare ($)\")\n",
    "\n",
    "# # colors = [\"orange\", \"blue\", \"yellow\"]\n",
    "plt.scatter(just_urban_count, just_urban_avg, marker=\"o\", facecolors=\"orange\", edgecolors=\"black\", s=tot_drivers_city, alpha=0.55, label = \"Urban\")\n",
    "plt.scatter(just_rural_count, just_rural_avg, marker=\"o\", facecolors=\"yellow\", edgecolors=\"black\", s=tot_drivers_city, alpha=0.55, label = \"Suburban\")\n",
    "plt.scatter(just_sub_count, just_sub_avg, marker=\"o\", facecolors=\"blue\", edgecolors=\"black\", s=tot_drivers_city, alpha=0.55, label = \"Rural\")\n",
    "plt.legend(loc=\"best\")\n"
   ]
  },
  {
   "cell_type": "code",
   "execution_count": 16,
   "metadata": {},
   "outputs": [
    {
     "data": {
      "text/plain": [
       "type\n",
       "Rural        104\n",
       "Suburban     638\n",
       "Urban       2607\n",
       "Name: driver_count, dtype: int64"
      ]
     },
     "execution_count": 16,
     "metadata": {},
     "output_type": "execute_result"
    }
   ],
   "source": [
    "citygrp = city_df.groupby('type')\n",
    "\n",
    "tot_drivers = citygrp['driver_count'].sum()\n",
    "\n",
    "tot_drivers"
   ]
  },
  {
   "cell_type": "code",
   "execution_count": 17,
   "metadata": {},
   "outputs": [
    {
     "data": {
      "image/png": "[encoded data removed]",
      "text/plain": [
       "<matplotlib.figure.Figure at 0x1a169a70f0>"
      ]
     },
     "metadata": {},
     "output_type": "display_data"
    }
   ],
   "source": [
    "explode =(0,0,0.05)\n",
    "colors = ['gold', 'lightskyblue', 'lightcoral']\n",
    "drivers_chart = tot_drivers.plot(kind='pie', explode = explode, colors=colors, figsize=(9,9))\n",
    "\n",
    "# Set the xlabel and ylabel using class methods\n",
    "drivers_chart.set_xlabel(\"City Type\")\n",
    "drivers_chart.set_ylabel(\"Number of Drivers\")\n",
    "\n",
    "\n",
    "plt.show()"
   ]
  },
  {
   "cell_type": "code",
   "execution_count": 22,
   "metadata": {},
   "outputs": [
    {
     "data": {
      "text/plain": [
       "type\n",
       "Rural        4255.09\n",
       "Suburban    20335.69\n",
       "Urban       40078.34\n",
       "Name: fare, dtype: float64"
      ]
     },
     "execution_count": 22,
     "metadata": {},
     "output_type": "execute_result"
    }
   ],
   "source": [
    "type_merged = merged_df.groupby('type')\n",
    "\n",
    "tot_fare = type_merged['fare'].sum()\n",
    "\n",
    "tot_fare"
   ]
  },
  {
   "cell_type": "code",
   "execution_count": 24,
   "metadata": {},
   "outputs": [
    {
     "data": {
      "image/png": "[encoded data removed]",
      "text/plain": [
       "<matplotlib.figure.Figure at 0x1a16ba4be0>"
      ]
     },
     "metadata": {},
     "output_type": "display_data"
    }
   ],
   "source": [
    "fare_chart = tot_fare.plot(kind='pie', explode = explode, colors=colors, figsize=(9,9))\n",
    "\n",
    "# Set the xlabel and ylabel using class methods\n",
    "fare_chart.set_xlabel(\"City Type\")\n",
    "fare_chart.set_ylabel(\"Total Fare\")\n",
    "\n",
    "\n",
    "plt.show()"
   ]
  },
  {
   "cell_type": "code",
   "execution_count": 13,
   "metadata": {},
   "outputs": [
    {
     "data": {
      "text/plain": [
       "type\n",
       "Rural        125\n",
       "Suburban     657\n",
       "Urban       1625\n",
       "Name: ride_id, dtype: int64"
      ]
     },
     "execution_count": 13,
     "metadata": {},
     "output_type": "execute_result"
    }
   ],
   "source": [
    "tot_rides = type_merged['ride_id'].count()\n",
    "\n",
    "tot_rides"
   ]
  },
  {
   "cell_type": "code",
   "execution_count": 25,
   "metadata": {},
   "outputs": [
    {
     "data": {
      "image/png": "[encoded data removed]",
      "text/plain": [
       "<matplotlib.figure.Figure at 0x1a169ff748>"
      ]
     },
     "metadata": {},
     "output_type": "display_data"
    }
   ],
   "source": [
    "rides_chart = tot_drivers.plot(kind='pie', explode = explode, colors=colors, figsize=(9,9))\n",
    "\n",
    "# Set the xlabel and ylabel using class methods\n",
    "rides_chart.set_xlabel(\"City Type\")\n",
    "rides_chart.set_ylabel(\"Number of Rides\")\n",
    "\n",
    "\n",
    "plt.show()"
   ]
  },
  {
   "cell_type": "code",
   "execution_count": null,
   "metadata": {},
   "outputs": [],
   "source": []
  },
  {
   "cell_type": "code",
   "execution_count": null,
   "metadata": {},
   "outputs": [],
   "source": []
  }
 ],
 "metadata": {
  "kernelspec": {
   "display_name": "Python 3",
   "language": "python",
   "name": "python3"
  },
  "language_info": {
   "codemirror_mode": {
    "name": "ipython",
    "version": 3
   },
   "file_extension": ".py",
   "mimetype": "text/x-python",
   "name": "python",
   "nbconvert_exporter": "python",
   "pygments_lexer": "ipython3",
   "version": "3.6.4"
  }
 },
 "nbformat": 4,
 "nbformat_minor": 2
}
